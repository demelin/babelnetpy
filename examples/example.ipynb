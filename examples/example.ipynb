{
 "cells": [
  {
   "cell_type": "code",
   "execution_count": 1,
   "metadata": {
    "collapsed": true
   },
   "outputs": [],
   "source": [
    "from babelnetpy.babelnet import BabelNet"
   ]
  },
  {
   "cell_type": "code",
   "execution_count": 2,
   "metadata": {
    "collapsed": true
   },
   "outputs": [],
   "source": [
    "bn = BabelNet(open(\"key.txt\", \"r\").read())"
   ]
  },
  {
   "cell_type": "code",
   "execution_count": 3,
   "metadata": {
    "collapsed": false
   },
   "outputs": [
    {
     "name": "stdout",
     "output_type": "stream",
     "text": [
      "{'id': 'bn:03083790n', 'pos': 'NOUN', 'source': 'BABELNET'}\n"
     ]
    }
   ],
   "source": [
    "Ids = bn.getSynset_Ids(\"BabelNet\", \"en\")\n",
    "print(Ids[0])"
   ]
  },
  {
   "cell_type": "code",
   "execution_count": 4,
   "metadata": {
    "collapsed": false
   },
   "outputs": [
    {
     "name": "stdout",
     "output_type": "stream",
     "text": [
      "[{'type': 'BabelSense', 'properties': {'fullLemma': 'BabelNet', 'simpleLemma': 'BabelNet', 'source': 'WIKI', 'senseKey': '37291130', 'frequency': 0, 'language': 'EN', 'pos': 'NOUN', 'synsetID': {'id': 'bn:03083790n', 'pos': 'NOUN', 'source': 'BABELNET'}, 'translationInfo': '', 'pronunciations': {'audios': [], 'transcriptions': []}, 'YAGOURL': 'BabelNet', 'bKeySense': False, 'idSense': 70973330}}, {'type': 'BabelSense', 'properties': {'fullLemma': 'BabelNet', 'simpleLemma': 'BabelNet', 'source': 'WIKIDATA', 'senseKey': 'Q4837690', 'frequency': 0, 'language': 'EN', 'pos': 'NOUN', 'synsetID': {'id': 'bn:03083790n', 'pos': 'NOUN', 'source': 'BABELNET'}, 'translationInfo': '', 'pronunciations': {'audios': [], 'transcriptions': []}, 'bKeySense': False, 'idSense': 170631591}}, {'type': 'BabelSense', 'properties': {'fullLemma': 'BabelNet', 'simpleLemma': 'BabelNet', 'source': 'OMWIKI', 'senseKey': '1499705', 'frequency': 0, 'language': 'EN', 'pos': 'NOUN', 'synsetID': {'id': 'bn:03083790n', 'pos': 'NOUN', 'source': 'BABELNET'}, 'translationInfo': '', 'pronunciations': {'audios': [], 'transcriptions': []}, 'bKeySense': False, 'idSense': 70973352}}, {'type': 'BabelSense', 'properties': {'fullLemma': 'Babelnet', 'simpleLemma': 'Babelnet', 'source': 'WIKIRED', 'senseKey': '37291418', 'frequency': 0, 'language': 'EN', 'pos': 'NOUN', 'synsetID': {'id': 'bn:03083790n', 'pos': 'NOUN', 'source': 'BABELNET'}, 'translationInfo': '', 'pronunciations': {'audios': [], 'transcriptions': []}, 'bKeySense': False, 'idSense': 70973337}}]\n"
     ]
    }
   ],
   "source": [
    "synsets = bn.getSynsets(Ids[0].id)\n",
    "print(synsets[0].senses)"
   ]
  },
  {
   "cell_type": "code",
   "execution_count": 5,
   "metadata": {
    "collapsed": false
   },
   "outputs": [
    {
     "name": "stdout",
     "output_type": "stream",
     "text": [
      "{'language': 'MUL', 'pointer': {'fSymbol': '@wd', 'name': 'Hypernym', 'shortName': 'is-a', 'relationGroup': 'HYPERNYM', 'isAutomatic': False}, 'target': 'bn:00059033n', 'weight': 0.0, 'normalizedWeight': 0.0}\n"
     ]
    }
   ],
   "source": [
    "edges = bn.getOutgoingEdges(Ids[0].id)\n",
    "print(edges[0])"
   ]
  },
  {
   "cell_type": "code",
   "execution_count": 6,
   "metadata": {
    "collapsed": false
   },
   "outputs": [
    {
     "name": "stdout",
     "output_type": "stream",
     "text": [
      "{'type': 'BabelSense', 'properties': {'fullLemma': 'BabelNet', 'simpleLemma': 'BabelNet', 'source': 'WIKI', 'senseKey': '37291130', 'frequency': 0, 'language': 'EN', 'pos': 'NOUN', 'synsetID': {'id': 'bn:03083790n', 'pos': 'NOUN', 'source': 'BABELNET'}, 'translationInfo': '', 'pronunciations': {'audios': [], 'transcriptions': []}, 'YAGOURL': 'BabelNet', 'bKeySense': False, 'idSense': 70973330}}\n"
     ]
    }
   ],
   "source": [
    "senses = bn.getSenses(\"BabelNet\", \"EN\")\n",
    "print(senses[0])"
   ]
  },
  {
   "cell_type": "code",
   "execution_count": 7,
   "metadata": {
    "collapsed": false
   },
   "outputs": [
    {
     "name": "stdout",
     "output_type": "stream",
     "text": [
      "{'id': 'bn:03083790n', 'pos': 'NOUN', 'source': 'BABELNET'}\n"
     ]
    }
   ],
   "source": [
    "synset_ids = \\\n",
    "    bn.getSynsetIdsFromResourceID(\"BabelNet\", \"EN\", \"NOUN\", \"WIKI\")\n",
    "print(synset_ids[0])"
   ]
  },
  {
   "cell_type": "code",
   "execution_count": null,
   "metadata": {
    "collapsed": true
   },
   "outputs": [],
   "source": []
  }
 ],
 "metadata": {
  "kernelspec": {
   "display_name": "Python [Root]",
   "language": "python",
   "name": "Python [Root]"
  },
  "language_info": {
   "codemirror_mode": {
    "name": "ipython",
    "version": 3
   },
   "file_extension": ".py",
   "mimetype": "text/x-python",
   "name": "python",
   "nbconvert_exporter": "python",
   "pygments_lexer": "ipython3",
   "version": "3.5.2"
  }
 },
 "nbformat": 4,
 "nbformat_minor": 2
}
